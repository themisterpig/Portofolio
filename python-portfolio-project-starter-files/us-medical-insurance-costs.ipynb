{
 "cells": [
  {
   "cell_type": "markdown",
   "metadata": {},
   "source": [
    "# U.S. Medical Insurance Costs"
   ]
  },
  {
   "cell_type": "code",
   "execution_count": 33,
   "metadata": {},
   "outputs": [],
   "source": [
    "import csv\n",
    "from statistics import mean, mode"
   ]
  },
  {
   "cell_type": "code",
   "execution_count": 22,
   "metadata": {},
   "outputs": [],
   "source": [
    "age = [] \n",
    "sex = []\n",
    "children = []\n",
    "smoker = []\n",
    "region = []\n",
    "charges = []\n",
    "bmi = []\n",
    "\n",
    "with open('insurance.csv') as insurance_lines:\n",
    "    DictReader_obj = csv.DictReader(insurance_lines)\n",
    "    for line in DictReader_obj:\n",
    "        age.append(int(line['age']))\n",
    "        sex.append(line['sex'])\n",
    "        bmi.append(float(line['bmi']))\n",
    "        children.append(int(line['children']))\n",
    "        smoker.append(line['smoker'])\n",
    "        region.append(line['region'])\n",
    "        charges.append(float(line['charges']))\n",
    "\n",
    "    "
   ]
  },
  {
   "cell_type": "code",
   "execution_count": 102,
   "metadata": {},
   "outputs": [],
   "source": [
    "# get the avg ages by num of children\n",
    "def getAgesbyChildren():\n",
    "    age_by_children = {key: [] for key in range(0, max(children) + 1)}\n",
    "     # Populate the dictionary with ages\n",
    "    for i in range(len(age)):\n",
    "        age_by_children[children[i]].append(age[i])\n",
    "     \n",
    "    \n",
    "    for i in range(0,max(children)+1):\n",
    "        print(\"For parents who have {} children the avg age is {}\".format(i,mean(age_by_children[i])))\n",
    "\n"
   ]
  },
  {
   "cell_type": "code",
   "execution_count": 111,
   "metadata": {},
   "outputs": [
    {
     "name": "stdout",
     "output_type": "stream",
     "text": [
      "For smokers the average is 32050.23183153285\n",
      "For non smokers the average is 8434.268297856202\n"
     ]
    }
   ],
   "source": [
    "# get the dif in charges of a smoker and non-smoker\n",
    "def getChargesBysmoking():\n",
    "    chargesBySmoking = {\"yes\": [], \"no\":[]}\n",
    "    \n",
    "    for i in range(len(smoker)):\n",
    "        chargesBySmoking[smoker[i]].append(charges[i])\n",
    "    for key in chargesBySmoking.keys():\n",
    "        if key == \"yes\":\n",
    "            print(\"For smokers the average is {}\".format(mean(chargesBySmoking[\"yes\"])))\n",
    "        else:\n",
    "            print(\"For non smokers the average is {}\".format(mean(chargesBySmoking[\"no\"])))\n",
    "\n"
   ]
  },
  {
   "cell_type": "code",
   "execution_count": null,
   "metadata": {},
   "outputs": [],
   "source": []
  },
  {
   "cell_type": "code",
   "execution_count": 113,
   "metadata": {},
   "outputs": [
    {
     "name": "stdout",
     "output_type": "stream",
     "text": [
      "Average ages: 39.21\n",
      "Average bmi: 30.66\n",
      "Average charges: 13270.4223\n",
      "Average children: 1.0\n",
      "\n",
      "Mode of sex: male\n",
      "Mode of children: 0\n",
      "Mode of smoker: no\n",
      "Mode of regions: southeast\n",
      "\n",
      "For parents who have 0 children the avg age is 38.444250871080136\n",
      "For parents who have 1 children the avg age is 39.4537037037037\n",
      "For parents who have 2 children the avg age is 39.44583333333333\n",
      "For parents who have 3 children the avg age is 41.56687898089172\n",
      "For parents who have 4 children the avg age is 39\n",
      "For parents who have 5 children the avg age is 35.611111111111114\n",
      "\n",
      "For smokers the average is 32050.23183153285\n",
      "For non smokers the average is 8434.268297856202\n"
     ]
    }
   ],
   "source": [
    "print(\"Average ages: {}\".format(round(mean(age),2)))\n",
    "print(\"Average bmi: {}\".format(round(mean(bmi),2)))\n",
    "print(\"Average charges: {}\".format(round(mean(charges),4)))\n",
    "print(\"Average children: {}\".format(round(mean(children),0)))\n",
    "print()\n",
    "print(\"Mode of sex: {}\".format(mode(sex)))\n",
    "print(\"Mode of children: {}\".format(mode(children)))\n",
    "print(\"Mode of smoker: {}\".format(mode(smoker)))\n",
    "print(\"Mode of regions: {}\".format(mode(region)))\n",
    "print()\n",
    "getAgesbyChildren()\n",
    "print()\n",
    "getChargesBysmoking()"
   ]
  },
  {
   "cell_type": "code",
   "execution_count": null,
   "metadata": {},
   "outputs": [],
   "source": []
  }
 ],
 "metadata": {
  "kernelspec": {
   "display_name": "Python 3 (ipykernel)",
   "language": "python",
   "name": "python3"
  },
  "language_info": {
   "codemirror_mode": {
    "name": "ipython",
    "version": 3
   },
   "file_extension": ".py",
   "mimetype": "text/x-python",
   "name": "python",
   "nbconvert_exporter": "python",
   "pygments_lexer": "ipython3",
   "version": "3.11.4"
  }
 },
 "nbformat": 4,
 "nbformat_minor": 4
}
